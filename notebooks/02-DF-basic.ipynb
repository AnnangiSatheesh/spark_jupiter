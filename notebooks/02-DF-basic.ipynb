{
 "cells": [
  {
   "cell_type": "code",
   "execution_count": 1,
   "id": "feaa5e22-d2a9-4463-a1e3-191d51816053",
   "metadata": {},
   "outputs": [],
   "source": [
    "from pyspark.sql import SparkSession\n",
    "\n",
    "spark = SparkSession.builder.master(\"local\").getOrCreate()\n",
    "sc = spark.sparkContext"
   ]
  },
  {
   "cell_type": "markdown",
   "id": "2b98ce7e-fd80-419e-a6d3-2252c5dae8e6",
   "metadata": {},
   "source": [
    "# 1. HOW TO CREATE DATAFRAME"
   ]
  },
  {
   "cell_type": "code",
   "execution_count": 2,
   "id": "64ac42e3-989a-4100-b13d-603474947860",
   "metadata": {},
   "outputs": [
    {
     "name": "stdout",
     "output_type": "stream",
     "text": [
      "+------------+---------+------------+----------+----------------+--------------------+------+-------------+----------+\n",
      "|Acceleration|Cylinders|Displacement|Horsepower|Miles_per_Gallon|                Name|Origin|Weight_in_lbs|      Year|\n",
      "+------------+---------+------------+----------+----------------+--------------------+------+-------------+----------+\n",
      "|        12.0|        8|       307.0|       130|            18.0|chevrolet chevell...|   USA|         3504|      null|\n",
      "|        12.0|        8|       307.0|       130|            18.0|chevrolet chevell...|   USA|         3504|1970-01-01|\n",
      "|        11.5|        8|       350.0|       165|            15.0|   buick skylark 320|   USA|         3693|1970-01-01|\n",
      "|        11.0|        8|       318.0|       150|            18.0|  plymouth satellite|   USA|         3436|1970-01-01|\n",
      "|        12.0|        8|       304.0|       150|            16.0|       amc rebel sst|   USA|         3433|1970-01-01|\n",
      "|        10.5|        8|       302.0|       140|            17.0|         ford torino|   USA|         3449|1970-01-01|\n",
      "|        10.0|        8|       429.0|       198|            15.0|    ford galaxie 500|   USA|         4341|1970-01-01|\n",
      "|         9.0|        8|       454.0|       220|            14.0|    chevrolet impala|   USA|         4354|1970-01-01|\n",
      "|         8.5|        8|       440.0|       215|            14.0|   plymouth fury iii|   USA|         4312|1970-01-01|\n",
      "|        10.0|        8|       455.0|       225|            14.0|    pontiac catalina|   USA|         4425|1970-01-01|\n",
      "|         8.5|        8|       390.0|       190|            15.0|  amc ambassador dpl|   USA|         3850|1970-01-01|\n",
      "|        17.5|        4|       133.0|       115|            null|citroen ds-21 pallas|Europe|         3090|1970-01-01|\n",
      "|        11.5|        8|       350.0|       165|            null|chevrolet chevell...|   USA|         4142|1970-01-01|\n",
      "|        11.0|        8|       351.0|       153|            null|    ford torino (sw)|   USA|         4034|1970-01-01|\n",
      "|        10.5|        8|       383.0|       175|            null|plymouth satellit...|   USA|         4166|1970-01-01|\n",
      "|        11.0|        8|       360.0|       175|            null|  amc rebel sst (sw)|   USA|         3850|1970-01-01|\n",
      "|        10.0|        8|       383.0|       170|            15.0| dodge challenger se|   USA|         3563|1970-01-01|\n",
      "|         8.0|        8|       340.0|       160|            14.0|   plymouth cuda 340|   USA|         3609|1970-01-01|\n",
      "|         8.0|        8|       302.0|       140|            null|ford mustang boss...|   USA|         3353|1970-01-01|\n",
      "|         9.5|        8|       400.0|       150|            15.0|chevrolet monte c...|   USA|         3761|1970-01-01|\n",
      "+------------+---------+------------+----------+----------------+--------------------+------+-------------+----------+\n",
      "only showing top 20 rows\n",
      "\n",
      "root\n",
      " |-- Acceleration: double (nullable = true)\n",
      " |-- Cylinders: long (nullable = true)\n",
      " |-- Displacement: double (nullable = true)\n",
      " |-- Horsepower: long (nullable = true)\n",
      " |-- Miles_per_Gallon: double (nullable = true)\n",
      " |-- Name: string (nullable = true)\n",
      " |-- Origin: string (nullable = true)\n",
      " |-- Weight_in_lbs: long (nullable = true)\n",
      " |-- Year: string (nullable = true)\n",
      "\n"
     ]
    }
   ],
   "source": [
    "first_df = spark.read. \\\n",
    "    format(\"json\"). \\\n",
    "    option(\"inferSchema\", \"true\"). \\\n",
    "    load(\"data/cars\")\n",
    "\n",
    "first_df.show()\n",
    "first_df.printSchema()"
   ]
  },
  {
   "cell_type": "code",
   "execution_count": null,
   "id": "6039e0b2-b7b4-4bda-89e3-e91548067604",
   "metadata": {},
   "outputs": [],
   "source": [
    "# specify a schema manually\n",
    "cars_schema = StructType([\n",
    "    StructField(\"Name\", StringType()),\n",
    "    StructField(\"Acceleration\", DoubleType()),\n",
    "    StructField(\"Cylinders\", LongType()),\n",
    "    StructField(\"Displacement\", DoubleType()),\n",
    "    StructField(\"Horsepower\", IntegerType()),\n",
    "    StructField(\"Miles_per_Gallon\", DoubleType()),\n",
    "    StructField(\"Origin\", StringType()),\n",
    "    StructField(\"Weight_in_lbs\", LongType()),\n",
    "    StructField(\"Year\", StringType()),\n",
    "])\n",
    "\n",
    "#!!!!!!!!!!! Very Important Warning Long Type vs IntType\n",
    "\n",
    "# reading a DF with a manual schema\n",
    "cars_df = spark.read. \\\n",
    "    format(\"json\"). \\\n",
    "    schema(cars_schema). \\\n",
    "    load(\"data/cars\")\n",
    "\n",
    "cars_df.filter(col(\"test\") > 7)\n",
    "\n",
    "cars_df.show()\n",
    "# Data Frame comparing\n",
    "\n",
    "# most_powered_df.explain(True)\n",
    "\n",
    "# Parsed Plan = dont check fields, functions, expression\n",
    "# Analyzed plan =\n",
    "# Opt logical plan = 30-40 optimisations,\n",
    "# Physical plan =\n",
    "\n",
    "#     comparing\n",
    "#  1 ==> first_df == first_df_inferSchema\n",
    "#  2 ==> count1 union + distinct  first_df first_df_inferSchema, count1 = 10, count2 = 10,  count1 union (union all) + distinct = union = 20 or 10, antijoin\n",
    "#  3 ==>\n",
    "\n",
    "first_df_inferSchema = spark.read. \\\n",
    "    format(\"json\"). \\\n",
    "    option(\"inferSchema\", \"true\"). \\\n",
    "    load(\"data/cars\")\n",
    "\n",
    "# first_df_inferSchema.printSchema()\n",
    "# cars_df.printSchema()\n",
    "# assert(first_df_inferSchema.schema == cars_df.schema)"
   ]
  },
  {
   "cell_type": "markdown",
   "id": "50d8a1d3-8873-4f34-a089-92992207835d",
   "metadata": {},
   "source": [
    "# 3. Catalyst"
   ]
  },
  {
   "cell_type": "code",
   "execution_count": null,
   "id": "10ca017f-2e28-4d75-bd1d-859cbd049be8",
   "metadata": {},
   "outputs": [],
   "source": [
    "#  DAG => Parsed Plan => Analyzed plan => Opt plan => Physical plan => Codegeneration\n",
    "# Logical Plans\n",
    "# Parsed Plan\n",
    "# Analyzed plan\n",
    "# Opt plan\n",
    "\n",
    "most_powered_df = cars_df. \\\n",
    "    where(cars_df.Cylinders > 4). \\\n",
    "    withColumn(\"new\", expr(\"Acceleration + 10\")). \\\n",
    "    sort(cars_df.Horsepower.desc(), cars_df.Acceleration.asc())\n",
    "\n",
    "most_powered_df.explain(True)\n",
    "\n",
    "most_powered_df.show()\n",
    "\n",
    "most_powered_df.queryExecution().debug().codegen()"
   ]
  }
 ],
 "metadata": {
  "kernelspec": {
   "display_name": "Python 3 (ipykernel)",
   "language": "python",
   "name": "python3"
  },
  "language_info": {
   "codemirror_mode": {
    "name": "ipython",
    "version": 3
   },
   "file_extension": ".py",
   "mimetype": "text/x-python",
   "name": "python",
   "nbconvert_exporter": "python",
   "pygments_lexer": "ipython3",
   "version": "3.9.10"
  }
 },
 "nbformat": 4,
 "nbformat_minor": 5
}
