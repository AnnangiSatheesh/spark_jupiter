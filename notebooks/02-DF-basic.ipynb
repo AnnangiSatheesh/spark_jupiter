{
 "cells": [
  {
   "cell_type": "code",
   "execution_count": null,
   "id": "feaa5e22-d2a9-4463-a1e3-191d51816053",
   "metadata": {},
   "outputs": [],
   "source": [
    "from pyspark.sql import SparkSession\n",
    "\n",
    "spark = SparkSession.builder.master(\"local\").getOrCreate()\n",
    "sc = spark.sparkContext"
   ]
  },
  {
   "cell_type": "markdown",
   "id": "2b98ce7e-fd80-419e-a6d3-2252c5dae8e6",
   "metadata": {},
   "source": [
    "# 1. HOW TO CREATE DATAFRAME"
   ]
  },
  {
   "cell_type": "code",
   "execution_count": null,
   "id": "64ac42e3-989a-4100-b13d-603474947860",
   "metadata": {},
   "outputs": [],
   "source": [
    "first_df = spark.read. \\\n",
    "    format(\"json\"). \\\n",
    "    option(\"inferSchema\", \"true\"). \\\n",
    "    load(\"../sources/cars\")\n",
    "\n",
    "first_df.show()\n",
    "first_df.printSchema()"
   ]
  },
  {
   "cell_type": "code",
   "execution_count": null,
   "id": "6039e0b2-b7b4-4bda-89e3-e91548067604",
   "metadata": {},
   "outputs": [],
   "source": [
    "# specify a schema manually\n",
    "cars_schema = StructType([\n",
    "    StructField(\"Name\", StringType()),\n",
    "    StructField(\"Acceleration\", DoubleType()),\n",
    "    StructField(\"Cylinders\", LongType()),\n",
    "    StructField(\"Displacement\", DoubleType()),\n",
    "    StructField(\"Horsepower\", IntegerType()),\n",
    "    StructField(\"Miles_per_Gallon\", DoubleType()),\n",
    "    StructField(\"Origin\", StringType()),\n",
    "    StructField(\"Weight_in_lbs\", LongType()),\n",
    "    StructField(\"Year\", StringType()),\n",
    "])\n",
    "\n",
    "#!!!!!!!!!!! Very Important Warning Long Type vs IntType\n",
    "\n",
    "# reading a DF with a manual schema\n",
    "cars_df = spark.read. \\\n",
    "    format(\"json\"). \\\n",
    "    schema(cars_schema). \\\n",
    "    load(\"../sources/cars\")\n",
    "\n",
    "cars_df.filter(col(\"test\") > 7)\n",
    "\n",
    "cars_df.show()\n",
    "# Data Frame comparing\n",
    "\n",
    "# most_powered_df.explain(True)\n",
    "\n",
    "# Parsed Plan = dont check fields, functions, expression\n",
    "# Analyzed plan =\n",
    "# Opt logical plan = 30-40 optimisations,\n",
    "# Physical plan =\n",
    "\n",
    "#     comparing\n",
    "#  1 ==> first_df == first_df_inferSchema\n",
    "#  2 ==> count1 union + distinct  first_df first_df_inferSchema, count1 = 10, count2 = 10,  count1 union (union all) + distinct = union = 20 or 10, antijoin\n",
    "#  3 ==>\n",
    "\n",
    "first_df_inferSchema = spark.read. \\\n",
    "    format(\"json\"). \\\n",
    "    option(\"inferSchema\", \"true\"). \\\n",
    "    load(\"../sources/cars\")\n",
    "\n",
    "# first_df_inferSchema.printSchema()\n",
    "# cars_df.printSchema()\n",
    "# assert(first_df_inferSchema.schema == cars_df.schema)"
   ]
  },
  {
   "cell_type": "markdown",
   "id": "50d8a1d3-8873-4f34-a089-92992207835d",
   "metadata": {},
   "source": [
    "# 3. Catalyst"
   ]
  },
  {
   "cell_type": "code",
   "execution_count": null,
   "id": "10ca017f-2e28-4d75-bd1d-859cbd049be8",
   "metadata": {},
   "outputs": [],
   "source": [
    "#  DAG => Parsed Plan => Analyzed plan => Opt plan => Physical plan => Codegeneration\n",
    "# Logical Plans\n",
    "# Parsed Plan\n",
    "# Analyzed plan\n",
    "# Opt plan\n",
    "\n",
    "most_powered_df = cars_df. \\\n",
    "    where(cars_df.Cylinders > 4). \\\n",
    "    withColumn(\"new\", expr(\"Acceleration + 10\")). \\\n",
    "    sort(cars_df.Horsepower.desc(), cars_df.Acceleration.asc())\n",
    "\n",
    "most_powered_df.explain(True)\n",
    "\n",
    "most_powered_df.show()\n",
    "\n",
    "most_powered_df.queryExecution().debug().codegen()"
   ]
  }
 ],
 "metadata": {
  "kernelspec": {
   "display_name": "Python 3 (ipykernel)",
   "language": "python",
   "name": "python3"
  },
  "language_info": {
   "codemirror_mode": {
    "name": "ipython",
    "version": 3
   },
   "file_extension": ".py",
   "mimetype": "text/x-python",
   "name": "python",
   "nbconvert_exporter": "python",
   "pygments_lexer": "ipython3",
   "version": "3.9.10"
  }
 },
 "nbformat": 4,
 "nbformat_minor": 5
}
