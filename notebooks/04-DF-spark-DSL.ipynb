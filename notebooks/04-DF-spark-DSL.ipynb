{
 "cells": [
  {
   "cell_type": "code",
   "execution_count": null,
   "id": "aacec94e-2cf5-4b91-8231-86ea13922c2a",
   "metadata": {},
   "outputs": [],
   "source": [
    "from time import sleep\n",
    "\n",
    "from pyspark.sql import SparkSession\n",
    "from pyspark.sql.functions import *\n",
    "from pyspark.sql import functions as F\n"
   ]
  },
  {
   "cell_type": "code",
   "execution_count": null,
   "id": "71586f21-0b79-44dd-9828-0dc2c5a627f1",
   "metadata": {},
   "outputs": [],
   "source": [
    "spark = SparkSession. \\\n",
    "    builder. \\\n",
    "    appName(\"Data Sources\"). \\\n",
    "    master(\"local\"). \\\n",
    "    config(\"spark.jars\", \"../jars/postgresql-42.2.19.jar\"). \\\n",
    "    config(\"spark.sql.legacy.timeParserPolicy\", \"LEGACY\"). \\\n",
    "    config(\"spark.sql.autoBroadcastJoinThreshold\", -1). \\\n",
    "    getOrCreate()"
   ]
  },
  {
   "cell_type": "code",
   "execution_count": null,
   "id": "7df25b9b-2893-4e10-b8b8-44fec234c643",
   "metadata": {},
   "outputs": [],
   "source": [
    "movies_df = spark.read.json(\"data/movies\")"
   ]
  },
  {
   "cell_type": "code",
   "execution_count": null,
   "id": "6e129b04-246a-4663-ac8a-5f0da1e01ac1",
   "metadata": {},
   "outputs": [],
   "source": [
    "# aggregations"
   ]
  },
  {
   "cell_type": "code",
   "execution_count": null,
   "id": "0332ed68-5c57-4f5b-a122-4faded0c9f00",
   "metadata": {},
   "outputs": [],
   "source": [
    "# counting\n",
    "all_movies_count_df = movies_df.selectExpr(\"count(Major_Genre)\")\n",
    "print(\"SIMPLE COUNT\")\n",
    "all_movies_count_df.show()\n",
    "all_movies_count_df.explain()"
   ]
  },
  {
   "cell_type": "code",
   "execution_count": null,
   "id": "e72fadd1-d2cf-4623-b456-3efc77adf518",
   "metadata": {
    "tags": []
   },
   "outputs": [],
   "source": [
    " # null not included\n",
    "genres_count_df = movies_df.select(count(col(\"Major_Genre\")))\n",
    "print(\"SIMPLE COUNT Genre\")\n",
    "genres_count_df.show()\n",
    "genres_count_df.explain()\n",
    "\n",
    " # null not included\n",
    "genres_count_df = movies_df.select(count(col(\"Major_Genre\")))\n",
    "print(\"SIMPLE COUNT Genre\")\n",
    "genres_count_df.show()\n",
    "genres_count_df.explain()\n",
    "\n",
    "genres_count_df_v2 = movies_df.selectExpr(\"count(*)\")\n",
    "print(\"SIMPLE COUNT Genre Expr\")\n",
    "genres_count_df_v2.show()\n",
    "\n",
    "genres_count_df_v2 = movies_df.selectExpr(\"count(*)\")\n",
    "print(\"SIMPLE COUNT Genre Expr\")\n",
    "genres_count_df_v2.show()\n",
    "\n",
    " # null included\n",
    "genres_count_number = movies_df.select(\"Major_Genre\").count()\n",
    "print(\"SIMPLE COUNT Genre wit select\")\n",
    "print(genres_count_number)\n",
    "\n"
   ]
  },
  {
   "cell_type": "code",
   "execution_count": null,
   "id": "37d8dc73-1909-41d5-b980-cc0bea43b86a",
   "metadata": {},
   "outputs": [],
   "source": [
    "# count distinct NOT WORKING\n",
    "unique_genres_df = movies_df.select(F.countDistinct(F.col(\"Major_Genre\")))\n",
    "print(\"COUNT DISTINCT Genre wit select\")\n",
    "print(unique_genres_df)\n",
    "\n",
    "unique_genres_df_v2 = movies_df.selectExpr(\"count(DISTINCT Major_Genre)\")\n",
    "print(\"COUNT DISTINCT Genre with Expression\")\n",
    "unique_genres_df_v2.show()\n"
   ]
  },
  {
   "cell_type": "markdown",
   "id": "67ec158e-c0e1-4f6d-b748-97eebf9bef31",
   "metadata": {},
   "source": [
    "# math aggregations"
   ]
  },
  {
   "cell_type": "code",
   "execution_count": null,
   "id": "2733902f-eecd-443b-b232-3bcfe589a117",
   "metadata": {},
   "outputs": [],
   "source": [
    "# min/max\n",
    "max_rating_df = movies_df.select(max(col(\"IMDB_Rating\")).alias(\"max value of IMDB Rating\"))\n",
    "print(\"max IMDB_Rating with functions\")\n",
    "max_rating_df.show()\n",
    "\n",
    "max_rating_df_v2 = movies_df.selectExpr(\"min(IMDB_Rating)\").alias(\"mix value of IMDB Rating\")\n",
    "print(\"max IMDB_Rating with Expression\")\n",
    "max_rating_df_v2.show()\n"
   ]
  },
  {
   "cell_type": "code",
   "execution_count": null,
   "id": "f4a9795c-8eb6-4d07-9f96-90dc7306f9ab",
   "metadata": {},
   "outputs": [],
   "source": [
    "# sum values in a column\n",
    "us_industry_total_df = movies_df.select(sum(col(\"US_Gross\")))\n",
    "print(\"sum US_Gross\")\n",
    "us_industry_total_df.show()\n",
    "\n",
    "us_industry_total_df_v2 = movies_df.selectExpr(\"sum(US_Gross)\")\n",
    "print(\"sum US_Gross Expr\")\n",
    "us_industry_total_df_v2.show()\n"
   ]
  },
  {
   "cell_type": "code",
   "execution_count": null,
   "id": "f86f5a56-eb8a-4569-9a80-3fe93e5689f4",
   "metadata": {},
   "outputs": [],
   "source": [
    "# avg\n",
    "avg_rt_rating_df = movies_df.select(avg(col(\"Rotten_Tomatoes_Rating\")))\n",
    "print(\"avg Rotten_Tomatoes_Rating\")\n",
    "avg_rt_rating_df.show()\n"
   ]
  },
  {
   "cell_type": "code",
   "execution_count": null,
   "id": "a45b06a9-8a07-4e34-af51-c10248470bcf",
   "metadata": {},
   "outputs": [],
   "source": [
    "# mean/standard dev\n",
    "rt_stats_df = movies_df.agg(\n",
    "    mean(col(\"Rotten_Tomatoes_Rating\")),\n",
    "    stddev(col(\"Rotten_Tomatoes_Rating\"))\n",
    ")\n",
    "print(\"mean/standard dev\")\n",
    "rt_stats_df.show()\n"
   ]
  },
  {
   "cell_type": "markdown",
   "id": "0792bcc0-89b3-41d9-bba0-371994a88f54",
   "metadata": {},
   "source": [
    "# Grouping"
   ]
  },
  {
   "cell_type": "code",
   "execution_count": null,
   "id": "8e4a23a7-2e0c-402c-ac13-42400e7c14f3",
   "metadata": {},
   "outputs": [],
   "source": [
    "# nulls are also considered\n",
    "count_by_genre_df = movies_df. \\\n",
    "    groupBy(col(\"Major_Genre\")). \\\n",
    "    count()\n",
    "print(\"count group by dev\")\n",
    "count_by_genre_df.show()\n",
    "count_by_genre_df.explain()\n",
    "\n",
    "avg_rating_by_genre_df = movies_df. \\\n",
    "    groupBy(col(\"Major_Genre\")). \\\n",
    "    avg(\"IMDB_Rating\")\n",
    "print(\"count group by dev\")\n",
    "count_by_genre_df.show()\n",
    "avg_rating_by_genre_df.show()\n",
    "avg_rating_by_genre_df.explain()\n"
   ]
  },
  {
   "cell_type": "code",
   "execution_count": null,
   "id": "5e530c05-4533-4029-b948-ef7289d16fa5",
   "metadata": {},
   "outputs": [],
   "source": [
    "# multiple aggregations\n",
    "aggregations_by_genre_df = movies_df. \\\n",
    "    groupBy(col(\"Major_Genre\")). \\\n",
    "    agg(\n",
    "    # use strings here for column names\n",
    "    count(\"*\").alias(\"N_Movies\"),\n",
    "    avg(\"IMDB_Rating\").alias(\"Avg_Rating\")\n",
    ")\n",
    "aggregations_by_genre_df.show()\n"
   ]
  },
  {
   "cell_type": "code",
   "execution_count": null,
   "id": "b36bc314-426e-48e7-85fc-230ac9136d45",
   "metadata": {},
   "outputs": [],
   "source": [
    "# sorting\n",
    "best_movies_df = movies_df.orderBy(col(\"IMDB_Rating\").desc())\n",
    "best_movies_df.show()\n",
    "best_movies_df.explain()\n",
    "\n",
    "# sorting works for numerical, strings (lexicographic), dates\n"
   ]
  },
  {
   "cell_type": "code",
   "execution_count": null,
   "id": "796170b0-d933-41ca-b0d0-6c412c22a17a",
   "metadata": {},
   "outputs": [],
   "source": [
    "# put nulls first or last\n",
    "proper_worst_movies_df = movies_df.orderBy(col(\"IMDB_Rating\").asc_nulls_last())\n",
    "proper_worst_movies_df.show()\n"
   ]
  },
  {
   "cell_type": "markdown",
   "id": "832fd271-9793-4b9a-bcf4-c95dbbea07a4",
   "metadata": {},
   "source": [
    "Exercises\n",
    "    1. Sum up ALL the profits of ALL the movies in the dataset\n",
    "    2. Count how many distinct directors we have\n",
    "    3. Show the mean, stddev for US gross revenue\n",
    "    4. Compute the average IMDB rating, average US gross PER DIRECTOR\n",
    "    5. Show the average difference between IMDB rating and Rotten Tomatoes rating\n"
   ]
  },
  {
   "cell_type": "markdown",
   "id": "2bc8f76d-19ec-462d-be4a-a1514a33a3b5",
   "metadata": {},
   "source": [
    "# Joins"
   ]
  },
  {
   "cell_type": "code",
   "execution_count": null,
   "id": "0640d8bf-22dc-4ccc-bf58-42c3dd51119f",
   "metadata": {},
   "outputs": [],
   "source": [
    "# inner joins = all rows from the \"left\" and \"right\" DF for which the condition is true\n",
    "join_condition = guitar_players_df.band == bands_df.id\n",
    "guitarists_bands_df = guitar_players_df.join(bands_df, join_condition, \"inner\")\n",
    "#                     ^^ \"left\" DF            ^^ \"right\" DF\n",
    "# guitarists_bands_df.show()\n",
    "\n",
    "# node 1 => 1|    [1]|  1| Angus Young|     Sydney|\n",
    "# node 2 => 1|       AC/DC|1973|\n",
    "# node 3 => 1|    [1]|  1| Angus Young|     Sydney| 1|       AC/DC|1973|\n",
    "# node 4 => 2, 4\n",
    "# node 5 => 11, 12\n",
    "#\n",
    "# +----+-------+---+------------+-----------+---+------------+----+\n",
    "# |band|guitars| id|        name|   hometown| id|        name|year|\n",
    "# +----+-------+---+------------+-----------+---+------------+----+\n",
    "# |   1|    [1]|  1| Angus Young|     Sydney|  1|       AC/DC|1973|\n",
    "# |   0|    [0]|  0|  Jimmy Page|     London|  0|Led Zeppelin|1968|\n",
    "# |   3|    [3]|  3|Kirk Hammett|Los Angeles|  3|   Metallica|1981|\n",
    "# +----+-------+---+------------+-----------+---+------------+----+\n",
    "#\n"
   ]
  },
  {
   "cell_type": "code",
   "execution_count": null,
   "id": "00fea787-4ee7-4e9d-9be6-ca217f9227b3",
   "metadata": {},
   "outputs": [],
   "source": [
    "# differentiate the \"name\" column - use the reference from the original DF\n",
    "guitarists_bands_upper_df = guitarists_bands_df.select(upper(bands_df.name))\n",
    "# guitarists_bands_upper_df.show()\n",
    "# guitarists_bands_upper_df.explain()\n"
   ]
  },
  {
   "cell_type": "code",
   "execution_count": null,
   "id": "af6aa573-6e85-42de-ad6a-3b251e088643",
   "metadata": {},
   "outputs": [],
   "source": [
    "# left outer = everything in the inner join + all the rows in the LEFT DF that were not matched (with nulls in the cols for the right DF)\n",
    "guitar_players_df.join(bands_df, join_condition, \"left_outer\")\n"
   ]
  },
  {
   "cell_type": "code",
   "execution_count": null,
   "id": "f8d1ff20-e573-4b1d-81c6-093f55883229",
   "metadata": {},
   "outputs": [],
   "source": [
    "# right outer = everything in the inner join + all the rows in the RIGHT DF that were not matched (with nulls in the cols for the left DF)\n",
    "guitar_players_df.join(bands_df, join_condition, \"right_outer\")"
   ]
  },
  {
   "cell_type": "code",
   "execution_count": null,
   "id": "038d3cf8-8996-4f91-892d-ad4a729a0e8b",
   "metadata": {},
   "outputs": [],
   "source": [
    "# full outer join = everythin in the inner join + all the rows in BOTH DFs that were not matched (with nulls in the other DF's cols)\n",
    "guitar_players_df.join(bands_df, join_condition, \"outer\")"
   ]
  },
  {
   "cell_type": "code",
   "execution_count": null,
   "id": "438b7b56-c3ba-4b62-8437-8d63092c8038",
   "metadata": {},
   "outputs": [],
   "source": [
    "# join on a single column\n",
    "guitar_players_df.join(bands_df, \"id\")"
   ]
  },
  {
   "cell_type": "code",
   "execution_count": null,
   "id": "1a43b005-ef07-451c-a038-2f3d1679fbbb",
   "metadata": {},
   "outputs": [],
   "source": [
    "# left semi joins = everything in the LEFT DF for which there is a row in the right DF for which the condition is true\n",
    "# more like a filter\n",
    "# equivalent SQL: select * from guitar_players WHERE EXISTS (...)\n",
    "guitar_players_df.join(bands_df, join_condition, \"left_semi\")"
   ]
  },
  {
   "cell_type": "code",
   "execution_count": null,
   "id": "2e626261-861c-4225-ba72-5b2654f504d4",
   "metadata": {},
   "outputs": [],
   "source": [
    "# left anti joins = everything in the LEFT DF for which there is __NO__ row in the right DF for which the condition is true\n",
    "guitar_players_df.join(bands_df, join_condition, \"left_anti\")"
   ]
  },
  {
   "cell_type": "markdown",
   "id": "35a8aca3-408b-4f14-b7f3-ec6f1ee01460",
   "metadata": {},
   "source": [
    "Exercises\n",
    "Read the tables in the Postgres database: employees, salaries, dept_emp\n",
    "1. show all employees and their max salary over time\n",
    "2. show all employees who were never managers\n",
    "3. for every employee, find the difference between their salary (current/latest) and \n",
    "    the max salary of their department (departments table)\n",
    "\"\"\""
   ]
  },
  {
   "cell_type": "code",
   "execution_count": null,
   "id": "88665080-68f7-4e4d-b6cd-6640a4dce5b9",
   "metadata": {},
   "outputs": [],
   "source": [
    "def read_table(table_name):\n",
    "    return spark.read. \\\n",
    "        format(\"jdbc\"). \\\n",
    "        option(\"driver\", driver). \\\n",
    "        option(\"url\", url). \\\n",
    "        option(\"user\", user). \\\n",
    "        option(\"password\", password). \\\n",
    "        option(\"dbtable\", \"public.\" + table_name). \\\n",
    "        load()\n",
    "\n",
    "employees_df = read_table(\"employees\")\n",
    "salaries_df = read_table(\"salaries\")\n",
    "dept_managers_df = read_table(\"dept_manager\")\n",
    "dept_emp_df = read_table(\"dept_emp\")\n",
    "departments_df = read_table(\"departments\")\n"
   ]
  }
 ],
 "metadata": {
  "kernelspec": {
   "display_name": "Python 3 (ipykernel)",
   "language": "python",
   "name": "python3"
  },
  "language_info": {
   "codemirror_mode": {
    "name": "ipython",
    "version": 3
   },
   "file_extension": ".py",
   "mimetype": "text/x-python",
   "name": "python",
   "nbconvert_exporter": "python",
   "pygments_lexer": "ipython3",
   "version": "3.9.10"
  }
 },
 "nbformat": 4,
 "nbformat_minor": 5
}
