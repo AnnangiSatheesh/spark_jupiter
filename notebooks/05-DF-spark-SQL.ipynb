{
 "cells": [
  {
   "cell_type": "code",
   "execution_count": null,
   "id": "7879a40d-3ea5-4596-b5f5-f5e3f9921f96",
   "metadata": {},
   "outputs": [],
   "source": [
    "from time import sleep\n",
    "\n",
    "from pyspark.sql import SparkSession\n",
    "from pyspark.sql.functions import *\n",
    "\n",
    "spark = SparkSession. \\\n",
    "    builder. \\\n",
    "    appName(\"Data Sources\"). \\\n",
    "    master(\"local\"). \\\n",
    "    config(\"spark.jars\", \"data/jars/postgresql-42.2.19.jar\"). \\\n",
    "    config(\"spark.sql.legacy.timeParserPolicy\", \"LEGACY\"). \\\n",
    "    getOrCreate()\n",
    "\n",
    "\n",
    "# config(\"spark.sql.warehouse.dir\", \"data/warehouse\"). \\\n",
    "    "
   ]
  },
  {
   "cell_type": "code",
   "execution_count": null,
   "id": "696bb2fa-9ac6-4427-96d4-e038abb9f813",
   "metadata": {},
   "outputs": [],
   "source": [
    "cars_df = spark.read.json(\"data/sources/cars\").cache()\n",
    "cars_df.show()\n",
    "\n",
    "assert(cars_df.count() != 0)\n",
    "\n",
    "american_cars_df = cars_df.\\\n",
    "    filter(col(\"Origin\") == \"Japan\").\\\n",
    "    select(col(\"Name\"))\n",
    "\n",
    "american_cars_df.show()\n"
   ]
  },
  {
   "cell_type": "code",
   "execution_count": null,
   "id": "131f2eb6-f9c6-4b5b-b81f-82d8df61061f",
   "metadata": {},
   "outputs": [],
   "source": [
    "# store as a Spark table dont write data to storage EXTERNAL TABLE\n",
    "#  DataFrame => SQL metastore\n",
    "print(\"DataFrame => SQL metastore = EXTERNAL TABLE\")\n",
    "cars_df.createOrReplaceTempView(\"cars\")"
   ]
  },
  {
   "cell_type": "code",
   "execution_count": null,
   "id": "0085418a-83af-49a9-8923-e6f66bd068a1",
   "metadata": {},
   "outputs": [],
   "source": [
    "# run SQL queries on top of DFs known to Spark under a certain name\n",
    "american_cars_df_v2 = spark.sql(\"SELECT Name FROM cars WHERE Origin = 'Japan'\")\n",
    "american_cars_df_v2.show()"
   ]
  },
  {
   "cell_type": "code",
   "execution_count": null,
   "id": "75d8dd6c-2164-4aad-8437-601bd037c8c4",
   "metadata": {},
   "outputs": [],
   "source": [
    "# DROPPING EXTERNAL TABLE DOES NOT DELETE DATA, ONLY IN METASTORE\n",
    "print(\"DROPPING EXTERNAL TABLE\")\n",
    "spark.sql(\"DROP TABLE cars\")\n",
    "spark.sql(\"SELECT Name FROM cars WHERE Origin = 'Japan'\")\n",
    "american_cars_df.show()\n",
    "cars_df_again = spark.read.json(\"data/cars\")\n",
    "cars_df_again.show()"
   ]
  },
  {
   "cell_type": "code",
   "execution_count": null,
   "id": "5b144541-341b-4dec-8ca6-91a08f4e6f1d",
   "metadata": {},
   "outputs": [
    {
     "ename": "NameError",
     "evalue": "name 'cars_df' is not defined",
     "output_type": "error",
     "traceback": [
      "\u001b[0;31m---------------------------------------------------------------------------\u001b[0m",
      "\u001b[0;31mNameError\u001b[0m                                 Traceback (most recent call last)",
      "Input \u001b[0;32mIn [1]\u001b[0m, in \u001b[0;36m<cell line: 4>\u001b[0;34m()\u001b[0m\n\u001b[1;32m      1\u001b[0m \u001b[38;5;66;03m# store DFs as Spark tables (files known to Spark) to Spark storage HDFS\u001b[39;00m\n\u001b[1;32m      2\u001b[0m \u001b[38;5;66;03m#  DataFrame => SQL metastore + Spark storage\u001b[39;00m\n\u001b[0;32m----> 4\u001b[0m \u001b[43mcars_df\u001b[49m\u001b[38;5;241m.\u001b[39m\\\n\u001b[1;32m      5\u001b[0m     write\u001b[38;5;241m.\u001b[39m\\\n\u001b[1;32m      6\u001b[0m     mode(\u001b[38;5;124m\"\u001b[39m\u001b[38;5;124moverwrite\u001b[39m\u001b[38;5;124m\"\u001b[39m)\u001b[38;5;241m.\u001b[39m\\\n\u001b[1;32m      7\u001b[0m     saveAsTable(\u001b[38;5;124m\"\u001b[39m\u001b[38;5;124mcars_managed_table\u001b[39m\u001b[38;5;124m\"\u001b[39m)\n",
      "\u001b[0;31mNameError\u001b[0m: name 'cars_df' is not defined"
     ]
    }
   ],
   "source": [
    "# store DFs as Spark tables (files known to Spark) to Spark storage HDFS\n",
    "#  DataFrame => SQL metastore + Spark storage\n",
    "print(\"SAVING TO MANAGED TABLE\")\n",
    "cars_df.\\\n",
    "    write.\\\n",
    "    mode(\"overwrite\").\\\n",
    "    saveAsTable(\"cars_managed_table\")\n",
    "# parquet(\"data/parquet\"). \\\n",
    "#     save()"
   ]
  },
  {
   "cell_type": "code",
   "execution_count": null,
   "id": "8c541eb9-407e-4bf2-8f55-7877183d4dfd",
   "metadata": {},
   "outputs": [],
   "source": [
    "print(\"READ FROM MANAGED STORAGE 1\")\n",
    "assert(cars_df.count() != 0)\n",
    "american_cars_df_v2 = spark.sql(\"SELECT * FROM cars_managed_table\")\n",
    "assert(american_cars_df_v2.count() != 0)\n",
    "american_cars_df_v2.show()\n"
   ]
  },
  {
   "cell_type": "code",
   "execution_count": null,
   "id": "b7eed6af-8214-46f2-9f59-a3529253fae2",
   "metadata": {},
   "outputs": [],
   "source": [
    "print(\"READ FROM MANAGED STORAGE 2\")\n",
    "cars_managed_df = spark.table(\"cars_managed_table\")\n",
    "# cars_managed_df = spark.read.table(\"cars_managed_table\")\n",
    "assert (cars_managed_df.count() != 0)\n",
    "cars_managed_df.show()\n"
   ]
  },
  {
   "cell_type": "code",
   "execution_count": null,
   "id": "234b702b-a0b5-4c78-b5b8-51fa03e66191",
   "metadata": {},
   "outputs": [],
   "source": [
    "print(\"DROPPING MANGED TABLE\")\n",
    "spark.sql(\"DROP TABLE cars_managed_table\")"
   ]
  },
  {
   "cell_type": "code",
   "execution_count": null,
   "id": "ac4c37ad-2900-48e3-adbb-027ef861df3c",
   "metadata": {},
   "outputs": [],
   "source": [
    "print(\"DDL DML INSIDE TABLE\")\n",
    "spark.sql(\"CREATE SCHEMA test\")\n",
    "\n",
    "spark.sql(\"CREATE TABLE test.students (name VARCHAR(64), address VARCHAR(64)) USING PARQUET PARTITIONED BY (student_id INT)\")\n",
    "\n",
    "spark.sql(\"INSERT INTO test.students VALUES('Bob Brown', '456 Taylor St, Cupertino', 222222),('Cathy Johnson', '789 Race Ave, Palo Alto', 333333)\")\n",
    "\n",
    "ddl_demo_df = spark.sql(\"SELECT * FROM test.students\")\n",
    "print(\"DDL_DEMO_DF TABLE\")\n",
    "assert (ddl_demo_df.count() != 0)\n",
    "ddl_demo_df.show()\n"
   ]
  },
  {
   "cell_type": "code",
   "execution_count": null,
   "id": "03b5c2c0-9367-4f9f-9293-3de77420db77",
   "metadata": {},
   "outputs": [],
   "source": [
    "print(\"DROPPING MANGED TABLE\")\n",
    "spark.sql(\"DROP TABLE test.students\")\n",
    "\n",
    " # https://spark.apache.org/docs/latest/sql-ref-syntax-dml-insert-into.html"
   ]
  },
  {
   "cell_type": "code",
   "execution_count": null,
   "id": "0f4e4e9b-99c5-4caa-839d-a4ffa7580b22",
   "metadata": {},
   "outputs": [],
   "source": [
    "driver = \"org.postgresql.Driver\"\n",
    "url = \"jdbc:postgresql://localhost:5432/spark\"\n",
    "user = \"docker\"\n",
    "password = \"docker\"\n",
    "\n",
    "\n",
    "def read_table(table_name):\n",
    "    return spark.read. \\\n",
    "        format(\"jdbc\"). \\\n",
    "        option(\"driver\", driver). \\\n",
    "        option(\"url\", url). \\\n",
    "        option(\"user\", user). \\\n",
    "        option(\"password\", password). \\\n",
    "        option(\"dbtable\", \"public.\" + table_name). \\\n",
    "        load()\n"
   ]
  },
  {
   "cell_type": "markdown",
   "id": "dd2786d4-7c42-4f28-b830-23f99e338dc8",
   "metadata": {},
   "source": [
    "exersices\n",
    "1. show all employees and their max salary over time\n",
    "2. show all employees who were never managers\n",
    "3. * for every employee, find the difference between their salary (current/latest) and the max salary of their department (departments table)\n"
   ]
  },
  {
   "cell_type": "code",
   "execution_count": null,
   "id": "cc6df03e-56c0-4f16-923d-647471173767",
   "metadata": {},
   "outputs": [],
   "source": [
    "employees_df = read_table(\"employees\")\n",
    "salaries_df = read_table(\"salaries\")\n",
    "dept_managers_df = read_table(\"dept_manager\")\n",
    "dept_emp_df = read_table(\"dept_emp\")\n",
    "departments_df = read_table(\"departments\")\n",
    "\n",
    "# save table names\n",
    "employees_df.createOrReplaceTempView(\"employees\")\n",
    "salaries_df.createOrReplaceTempView(\"salaries\")\n",
    "dept_managers_df.createOrReplaceTempView(\"dept_manager\")\n",
    "dept_emp_df.createOrReplaceTempView(\"dept_emp\")\n",
    "departments_df.createOrReplaceTempView(\"departments\")\n"
   ]
  }
 ],
 "metadata": {
  "kernelspec": {
   "display_name": "Python 3 (ipykernel)",
   "language": "python",
   "name": "python3"
  },
  "language_info": {
   "codemirror_mode": {
    "name": "ipython",
    "version": 3
   },
   "file_extension": ".py",
   "mimetype": "text/x-python",
   "name": "python",
   "nbconvert_exporter": "python",
   "pygments_lexer": "ipython3",
   "version": "3.9.10"
  }
 },
 "nbformat": 4,
 "nbformat_minor": 5
}
