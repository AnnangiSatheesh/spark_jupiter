{
 "cells": [
  {
   "cell_type": "code",
   "execution_count": null,
   "id": "f91a7af4-ee51-4133-b2e4-801c2f59ebcb",
   "metadata": {},
   "outputs": [],
   "source": [
    "from pyspark.sql import SparkSession\n",
    "from pyspark.sql.types import *\n",
    "from pyspark.sql.functions import *\n",
    "\n",
    "spark = SparkSession. \\\n",
    "    builder. \\\n",
    "    appName(\"Joins\"). \\\n",
    "    master(\"local\"). \\\n",
    "    config(\"spark.jars\", \"data/jars/postgresql-42.2.19.jar\"). \\\n",
    "    getOrCreate()\n"
   ]
  },
  {
   "cell_type": "code",
   "execution_count": null,
   "id": "45c60be9-f708-4e10-8f08-bd123cf13cfb",
   "metadata": {},
   "outputs": [],
   "source": [
    "movies_df = spark.read.json(\"data/movies\")"
   ]
  },
  {
   "cell_type": "code",
   "execution_count": null,
   "id": "c169d127-ea7a-4b30-b77a-bc9f97a70f24",
   "metadata": {},
   "outputs": [],
   "source": [
    "# demo_literal_values\n",
    "\n",
    "meaning_of_life_df = movies_df.select(col(\"Title\"), lit(42).alias(\"MOL\"))\n",
    "meaning_of_life_df.show()"
   ]
  },
  {
   "cell_type": "code",
   "execution_count": null,
   "id": "78128f61-520a-4ce5-82a9-23155867b74a",
   "metadata": {},
   "outputs": [],
   "source": [
    "# demo_booleans\n",
    "\n",
    "drama_filter = movies_df.Major_Genre == \"Drama\" # column object of TYPE boolean\n",
    "good_rating_filter = movies_df.IMDB_Rating > 7.0\n",
    "# can use & (and), | (or), ~ (not)\n",
    "good_drama_filter = good_rating_filter & drama_filter\n",
    "\n",
    "# can use boolean column objects as arguments to filter\n",
    "good_dramas_df = movies_df.filter(good_drama_filter).select(\"Title\", \"Major_Genre\", \"IMDB_Rating\")\n",
    "good_dramas_df.show()\n"
   ]
  },
  {
   "cell_type": "code",
   "execution_count": null,
   "id": "e7be5686-e421-4160-bc92-0bf81437ff1f",
   "metadata": {},
   "outputs": [],
   "source": [
    "# can add the col object as a column/property for every row\n",
    "movies_with_good_drama_condition_df = movies_df\\\n",
    "    .select(col(\"Title\"), good_drama_filter.alias(\"IsItAGoodDrama\"))\n",
    "# can filter using the true/false value of a column\n",
    "good_dramas_df_v2 = movies_with_good_drama_condition_df.filter(\"IsItAGoodDrama\")"
   ]
  },
  {
   "cell_type": "code",
   "execution_count": null,
   "id": "5e655c10-0fd6-4eb0-9302-e4e5d7b3e4b2",
   "metadata": {},
   "outputs": [],
   "source": [
    "# negation\n",
    "bad_drama_filter = ~good_drama_filter\n",
    "bad_dramas = movies_df.select(col(\"Title\"), bad_drama_filter)\n",
    "bad_dramas.show()\n"
   ]
  },
  {
   "cell_type": "markdown",
   "id": "4ea652f9-6184-493e-b9bc-29b031b24c46",
   "metadata": {},
   "source": [
    "# Demo Numerical OPS"
   ]
  },
  {
   "cell_type": "code",
   "execution_count": null,
   "id": "7931d7bd-e44a-4ea1-9bd8-2414de9a14fc",
   "metadata": {},
   "outputs": [],
   "source": [
    "movies_avg_ratings_df = movies_df\\\n",
    "    .select(\n",
    "    col(\"Title\"),\n",
    "    (col(\"Rotten_Tomatoes_Rating\") / 10 + col(\"IMDB_Rating\")) / 2\n",
    ")\n",
    "# can use ==, >=, >, <, <= to obtain boolean col objects\n",
    "\n",
    "\n",
    "# Pearson correlation - for numerical fields\n",
    "# a number [-1, 1]\n",
    "# is an \"action\" (the DF must be evaluated)\n",
    "rating_correlation = movies_df.stat.corr(\"IMDB_Rating\", \"Rotten_Tomatoes_Rating\")\n",
    "print(rating_correlation)\n"
   ]
  },
  {
   "cell_type": "markdown",
   "id": "e68d0b53-4dc5-4dfa-8a45-3a85dbb42e3f",
   "metadata": {},
   "source": [
    "# Demo String OPS"
   ]
  },
  {
   "cell_type": "code",
   "execution_count": null,
   "id": "227d9816-a008-438c-ac28-f15211e3666f",
   "metadata": {},
   "outputs": [],
   "source": [
    "movies_df.select(initcap(col(\"Title\"))) # capitalize initials of every word in the string\n",
    "# upper(...), lower(...) to uppercase/lowercase\n",
    "movies_df.filter(col(\"Title\").contains(\"love\")).show()\n"
   ]
  },
  {
   "cell_type": "markdown",
   "id": "d127f743-1117-48ee-acdf-b4dcb8a332e6",
   "metadata": {},
   "source": [
    "# demo_regexes"
   ]
  },
  {
   "cell_type": "code",
   "execution_count": null,
   "id": "818f3667-060d-4d07-9724-8f91cea93d61",
   "metadata": {},
   "outputs": [],
   "source": [
    "cars_df = spark.read.json(\"data/cars\")\n",
    "\n",
    "regexString = \"volkswagen|vw\"\n",
    "vw_df = cars_df.select(\n",
    "    col(\"Name\"),\n",
    "    regexp_extract(col(\"Name\"), regexString, 0).alias(\"regex_extract\")\n",
    ").filter(col(\"regex_extract\") != \"\")\n",
    "\n",
    "vw_df.show()\n",
    "\n",
    "vw_new_name_df = vw_df.select(\n",
    "    col(\"Name\"),\n",
    "    regexp_replace(col(\"Name\"), regexString, \"Volkswagen\").alias(\"replacement\")\n",
    ")\n",
    "vw_new_name_df.show()\n"
   ]
  },
  {
   "cell_type": "markdown",
   "id": "ad28e0a9-eef3-4bb5-81a6-a1a85e4ceb21",
   "metadata": {},
   "source": [
    "Exercise\n",
    "    Filter the cars DF, return all cars whose name contains either element of the list\n",
    "    - contains function\n",
    "    - regexes"
   ]
  },
  {
   "cell_type": "code",
   "execution_count": null,
   "id": "38099f66-174a-4e9a-ab38-e006d6d1a4a7",
   "metadata": {},
   "outputs": [],
   "source": [
    "def get_car_names():\n",
    "    return [\"Volkswagen\", \"Mercedes-Benz\", \"Ford\"]\n",
    "\n",
    "# v1 - regexes\n",
    "regexString = \"|\".join(get_car_names()) # Volkswagen|Mercedes-Benz|Ford\n",
    "cars_interest_df = cars_df.select(\n",
    "        col(\"Name\"),\n",
    "        regexp_extract(lower(col(\"Name\")), regexString, 0).alias(\"regex_extract\")\n",
    "    ).filter(col(\"regex_extract\") != \"\").orderBy(col(\"regex_extract\"))\n",
    "\n",
    "\n",
    "\n",
    "# v2 - contains\n",
    "from functools import reduce\n",
    "\n",
    "car_name_filters = [col(\"Name\").contains(car_name.lower()) for car_name in [\"Volkswagen\", \"Mercedes-Benz\", \"Ford\"]]\n",
    "big_filter = reduce(lambda filter1, filter2: filter1 | filter2, car_name_filters)\n",
    "filtered_cars = cars_df.filter(big_filter)"
   ]
  },
  {
   "cell_type": "markdown",
   "id": "3f23bd46-a7f5-4c2d-92e5-fb70ca721373",
   "metadata": {},
   "source": [
    "# complex type"
   ]
  },
  {
   "cell_type": "code",
   "execution_count": null,
   "id": "f5ae2f51-eb6f-4d0f-9624-0d56d917bfd1",
   "metadata": {},
   "outputs": [],
   "source": [
    "movies_with_release_dates_df = movies_df.select(\n",
    "    col(\"Title\"),\n",
    "    to_date(col(\"Release_Date\"), \"dd-MMM-YY\").alias(\"Actual_Release\")\n",
    ")"
   ]
  },
  {
   "cell_type": "code",
   "execution_count": null,
   "id": "796a105f-9837-4b15-9ddd-25d04232e981",
   "metadata": {},
   "outputs": [],
   "source": [
    "# date operations\n",
    "enriched_movies_df = movies_with_release_dates_df. \\\n",
    "    withColumn(\"Today\", current_date()). \\\n",
    "    withColumn(\"Right_Now\", current_timestamp()). \\\n",
    "    withColumn(\"Movie_Age\", datediff(col(\"Today\"), col(\"Actual_Release\")) / 365)\n"
   ]
  },
  {
   "cell_type": "code",
   "execution_count": null,
   "id": "63232adf-8abb-4397-8b10-3bf346cd40e7",
   "metadata": {},
   "outputs": [],
   "source": [
    "# check for empty date\n",
    "no_release_known_df = movies_with_release_dates_df.filter(col(\"Actual_Release\").isNull())"
   ]
  },
  {
   "cell_type": "code",
   "execution_count": null,
   "id": "bb69ea2a-6e49-4493-8de6-d84585bfbf92",
   "metadata": {},
   "outputs": [],
   "source": [
    "# hypothetical\n",
    "movies_with_2_formats = movies_df.select(col(\"Title\"), col(\"Release_Date\")). \\\n",
    "    withColumn(\"Date_F1\", to_date(col(\"Release_Date\"), \"dd-MM-yyyy\")). \\\n",
    "    withColumn(\"Date_F2\", to_date(col(\"Release_Date\"), \"yyyy-MM-dd\")). \\\n",
    "    withColumn(\"Actual_Date\", coalesce(col(\"Date_F1\"), col(\"Date_F2\")))"
   ]
  },
  {
   "cell_type": "code",
   "execution_count": null,
   "id": "aaf9ac3f-9089-42fa-b874-2810b3b03c4b",
   "metadata": {},
   "outputs": [],
   "source": [
    "# structures\n",
    "print(\"structures create\")\n",
    "movies_struct_df = movies_df. \\\n",
    "    select(col(\"Title\"), struct(col(\"US_Gross\"), col(\"Worldwide_Gross\"), col(\"US_DVD_Sales\")).alias(\"Profit\"))\n",
    "\n",
    "movies_struct_df.show()\n"
   ]
  },
  {
   "cell_type": "code",
   "execution_count": null,
   "id": "bf0ddd53-7b0e-4573-b5bb-f6ba72c75193",
   "metadata": {},
   "outputs": [],
   "source": [
    "# get fields\n",
    "\n",
    "movies_struct_df. \\\n",
    "    select(col(\"Title\"), col(\"Profit\").getField(\"US_Gross\").alias(\"US_Profit\")).\\\n",
    "    show()\n"
   ]
  },
  {
   "cell_type": "code",
   "execution_count": null,
   "id": "2704a040-ee97-40c4-b63c-9bd0e4f232b5",
   "metadata": {},
   "outputs": [],
   "source": [
    "# structures - SQL expression strings\n",
    "movies_struct_df_v2 = movies_df. \\\n",
    "    selectExpr(\"Title\", \"(US_Gross, Worldwide_Gross, US_DVD_Sales) as Profit\"). \\\n",
    "    selectExpr(\"Title\", \"Profit.US_Gross as US_Profit\")\n",
    "\n",
    "movies_struct_df_v2.show()"
   ]
  },
  {
   "cell_type": "code",
   "execution_count": null,
   "id": "5f67a743-360a-4f88-8639-30f21c0db1dd",
   "metadata": {},
   "outputs": [],
   "source": [
    "# very nested data structures\n",
    "movies_struct_df_v3 = movies_df. \\\n",
    "    selectExpr(\"Title\",\n",
    "               \"((IMDB_Rating, Rotten_Tomatoes_Rating) as Rating, (US_Gross, Worldwide_Gross, US_DVD_Sales) as Profit) as Success\")\n",
    "print(\"nested data structures\")\n",
    "\n",
    "movies_struct_df_v3.show()\n"
   ]
  },
  {
   "cell_type": "code",
   "execution_count": null,
   "id": "0ad2c743-9671-4333-bc93-ee64ecf225d5",
   "metadata": {},
   "outputs": [],
   "source": [
    "movies_struct_df_v3. \\\n",
    "    selectExpr(\"Title\", \"Success.Rating.IMDB_Rating as IMDB\").show()\n",
    "\n",
    "movies_struct_df_v3.show()"
   ]
  },
  {
   "cell_type": "code",
   "execution_count": null,
   "id": "574a6468-e765-492d-a269-6c5061b535fc",
   "metadata": {},
   "outputs": [],
   "source": [
    "# arrays\n",
    "movies_with_words_df = movies_df.\\\n",
    "    select(col(\"Title\"),\n",
    "    split(col(\"Title\"), \" |,\").alias(\"Title_Words\"),\n",
    "    split(col(\"Director\"), \" |,\").alias(\"Director_Words\"))\n",
    "movies_with_words_df.printSchema()\n",
    "movies_with_words_df.show()\n",
    "\n",
    "# ^^^^^^^^^^^^^^^^^^^^^^^^ col object of type ARRAY[String]\n",
    "# you can have nested arrays"
   ]
  },
  {
   "cell_type": "code",
   "execution_count": null,
   "id": "2fd689ea-b476-494c-915e-6a5354d5e6fc",
   "metadata": {},
   "outputs": [],
   "source": [
    "# array operations\n",
    "array_ops_df = movies_with_words_df.select(\n",
    "    col(\"Title\"),\n",
    "    expr(\"Title_Words[0]\"),  # the first element in the array\n",
    "    size(col(\"Title_Words\")),  # the length of the array\n",
    "    array_contains(col(\"Title_Words\"), \"Love\")\n",
    "    # a bunch of array_(...) functions\n",
    ")\n",
    "\n",
    "array_ops_df.show()\n"
   ]
  },
  {
   "cell_type": "code",
   "execution_count": null,
   "id": "5930d965-c3d8-42dd-9f5b-f860bf377131",
   "metadata": {},
   "outputs": [],
   "source": [
    "array_ops_df = movies_with_words_df.select(\n",
    "    col(\"Title\"),\n",
    "    explode(col(\"Title_Words\"))\n",
    ")\n",
    "\n",
    "array_ops_df.show()\n"
   ]
  }
 ],
 "metadata": {
  "kernelspec": {
   "display_name": "Python 3 (ipykernel)",
   "language": "python",
   "name": "python3"
  },
  "language_info": {
   "codemirror_mode": {
    "name": "ipython",
    "version": 3
   },
   "file_extension": ".py",
   "mimetype": "text/x-python",
   "name": "python",
   "nbconvert_exporter": "python",
   "pygments_lexer": "ipython3",
   "version": "3.9.10"
  }
 },
 "nbformat": 4,
 "nbformat_minor": 5
}
